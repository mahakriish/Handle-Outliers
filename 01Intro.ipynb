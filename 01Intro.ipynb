{
 "metadata": {
  "language_info": {
   "codemirror_mode": {
    "name": "ipython",
    "version": 3
   },
   "file_extension": ".py",
   "mimetype": "text/x-python",
   "name": "python",
   "nbconvert_exporter": "python",
   "pygments_lexer": "ipython3",
   "version": "3.8.5-final"
  },
  "orig_nbformat": 2,
  "kernelspec": {
   "name": "python3",
   "display_name": "Python 3"
  }
 },
 "nbformat": 4,
 "nbformat_minor": 2,
 "cells": [
  {
   "source": [
    "# Outliers - Introduction"
   ],
   "cell_type": "markdown",
   "metadata": {}
  },
  {
   "source": [
    "** What is Outliers ? **\n",
    "\n",
    "* An outlier is a data point that is distant from other similar points.\n",
    "* When we collect data, sometimes there are values that are \"far away\" from the main group of data.\n",
    "\n",
    "*for example,*\n",
    "\n",
    "* Runs scored by top ten batsman in WC-->500,525,515,450,490,30,50,600,460,560-->Here 30s and 50s are outliers.\n",
    "* Let’s say you received the following paychecks last month:$225, $250, $25, $235-->Here $25 is outlier."
   ],
   "cell_type": "markdown",
   "metadata": {}
  },
  {
   "source": [
    "** Why we need to address the outliers? **"
   ],
   "cell_type": "markdown",
   "metadata": {}
  },
  {
   "source": [
    "Team A: 280,300,290,320,60,80-->Average score for Team A is 220\n",
    "\n",
    "Team B: 250,200,225,210,230,240-->Average score for Team A is 225\n",
    "\n",
    "* Conclusion of above data is Team B was performed better than Team A.\n",
    "\n",
    "Team A 60 and 80 are an \"Outlier\" ... what if we remove those value? Team A avg:297.5,Team B avg: 220\n",
    "\n",
    "* Conclusion of above data is Team B was performed better than Team A when we removed the outliers of Team A.\n",
    "\n",
    "*Because of outliers, The result  has changed. So, We need  to address the outliers.*"
   ],
   "cell_type": "markdown",
   "metadata": {}
  },
  {
   "source": [
    "Next question is? why we remove the data? is that fair? Can we just get rid of values we don't like?\n",
    "\n",
    "** What to do ? **\n",
    "\n",
    "we need to think \"why is that value over there?\"\n",
    "\n",
    "* The match might be stopped because of rain while Team A batting.\n",
    "\n",
    "* may be input error.\n",
    "\n",
    "* Chances are there to score low runs"
   ],
   "cell_type": "markdown",
   "metadata": {}
  },
  {
   "source": [
    "** Causes of Outliers: **\n",
    "\n",
    "* Measurement or input error.\n",
    "\n",
    "* Data corruption.\n",
    "\n",
    "* True outlier observation (e.g. Michael Jordan in basketball).\n",
    "\n",
    "There is no precise way to define and identify outliers in general. So, We or a domain expert, must interpret the raw observations and decide whether a value is an outlier or not.\n",
    "\n",
    "If they are the result of a mistake, then we can ignore them, but if it is just a variance in the data we would need think a bit further."
   ],
   "cell_type": "markdown",
   "metadata": {}
  },
  {
   "source": [
    "** Why You Shouldn’t Just Delete Outliers? **\n",
    "\n",
    "* When we remove outliers we are changing the data, it is no longer \"pure\", so we shouldn't just get rid of the outliers without a good reason!\n",
    "\n",
    "* *when we do get rid of them, we should explain what we are doing and why.*\n"
   ],
   "cell_type": "markdown",
   "metadata": {}
  },
  {
   "source": [
    "** Significance of outliers: **\n",
    "\n",
    "* Outliers badly affect mean and standard deviation of the dataset. These may statistically give erroneous results.\n",
    "\n",
    "* Most machine learning algorithms do not work well in the presence of outlier. So it is desirable to detect and remove outliers.\n",
    "\n",
    "* Outliers are highly useful in anomaly detection like fraud detection where the fraud transactions are very different from normal transactions.\n"
   ],
   "cell_type": "markdown",
   "metadata": {}
  },
  {
   "cell_type": "code",
   "execution_count": null,
   "metadata": {},
   "outputs": [],
   "source": []
  }
 ]
}